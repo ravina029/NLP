{
 "cells": [
  {
   "cell_type": "code",
   "execution_count": 78,
   "id": "8ff4dcba",
   "metadata": {},
   "outputs": [],
   "source": [
    "# text preprocessing \n",
    "data=\"\"\" 'Nature is an inherent character or constitution,[1] particularly of the ecosphere or the universe as a whole. \n",
    "In this general sense nature refers to the laws, elements and phenomena of the physical world, including life. \n",
    "Although humans are part of nature, human activity or humans as a whole are often described as at times at odds,\n",
    "or outright separate and even superior to nature.[2]'\n",
    "\n",
    "'During the advent of modern scientific method in the last several centuries, nature became the passive reality, \n",
    "organized and moved by divine laws.[3][4] With the Industrial revolution, nature increasingly became seen as the\n",
    "part of reality deprived from intentional intervention: it was hence considered as sacred by some traditions (Rousseau,\n",
    "American transcendentalism) or a mere decorum for divine providence or human history (Hegel, Marx). However, \n",
    "a vitalist vision of nature, closer to the pre-Socratic one, got reborn at the same time, especially after Charles Darwin.[2]'\n",
    "\n",
    "'Within the various uses of the word today, \"nature\" often refers to geology and wildlife. Nature can refer to the general realm \n",
    "of living plants and animals, and in some cases to the processes associated with inanimate objects—the way that particular types \n",
    "of things exist and change of their own accord, such as the weather and geology of the Earth.' \n",
    "'It is often taken to mean the \"natural environment\" or wilderness—wild animals, rocks, forest, and in general those things that \n",
    "have not been substantially altered by human intervention, or which persist despite human intervention. For example, manufactured \n",
    "objects and human interaction generally are not considered part of nature, unless qualified as, for example, \"human nature\" or \"the whole of nature\".\n",
    "This more traditional concept of natural things that can still be found today implies a distinction between the natural and the artificial, \n",
    "with the artificial being understood as that which has been brought into being by a human consciousness or a human mind. Depending on the particular context, \n",
    "the term \"natural\" might also be distinguished from the unnatural or the supernatural.[2]'\n",
    "\"\"\""
   ]
  },
  {
   "cell_type": "code",
   "execution_count": 37,
   "id": "a4859e3d",
   "metadata": {},
   "outputs": [],
   "source": [
    "import pandas as pd \n",
    "df=pd.DataFrame({\"data\":[df]})"
   ]
  },
  {
   "cell_type": "code",
   "execution_count": 38,
   "id": "77b7a299",
   "metadata": {},
   "outputs": [
    {
     "data": {
      "text/html": [
       "<div>\n",
       "<style scoped>\n",
       "    .dataframe tbody tr th:only-of-type {\n",
       "        vertical-align: middle;\n",
       "    }\n",
       "\n",
       "    .dataframe tbody tr th {\n",
       "        vertical-align: top;\n",
       "    }\n",
       "\n",
       "    .dataframe thead th {\n",
       "        text-align: right;\n",
       "    }\n",
       "</style>\n",
       "<table border=\"1\" class=\"dataframe\">\n",
       "  <thead>\n",
       "    <tr style=\"text-align: right;\">\n",
       "      <th></th>\n",
       "      <th>data</th>\n",
       "    </tr>\n",
       "  </thead>\n",
       "  <tbody>\n",
       "    <tr>\n",
       "      <th>0</th>\n",
       "      <td>'nature is an inherent character or constitut...</td>\n",
       "    </tr>\n",
       "  </tbody>\n",
       "</table>\n",
       "</div>"
      ],
      "text/plain": [
       "                                                data\n",
       "0   'nature is an inherent character or constitut..."
      ]
     },
     "execution_count": 38,
     "metadata": {},
     "output_type": "execute_result"
    }
   ],
   "source": [
    "df"
   ]
  },
  {
   "cell_type": "code",
   "execution_count": 79,
   "id": "827cfe15",
   "metadata": {},
   "outputs": [],
   "source": [
    "df=data.lower()"
   ]
  },
  {
   "cell_type": "code",
   "execution_count": 80,
   "id": "a728320d",
   "metadata": {},
   "outputs": [
    {
     "data": {
      "text/plain": [
       "' \\'nature is an inherent character or constitution,[1] particularly of the ecosphere or the universe as a whole. \\nin this general sense nature refers to the laws, elements and phenomena of the physical world, including life. \\nalthough humans are part of nature, human activity or humans as a whole are often described as at times at odds,\\nor outright separate and even superior to nature.[2]\\'\\n\\n\\'during the advent of modern scientific method in the last several centuries, nature became the passive reality, \\norganized and moved by divine laws.[3][4] with the industrial revolution, nature increasingly became seen as the\\npart of reality deprived from intentional intervention: it was hence considered as sacred by some traditions (rousseau,\\namerican transcendentalism) or a mere decorum for divine providence or human history (hegel, marx). however, \\na vitalist vision of nature, closer to the pre-socratic one, got reborn at the same time, especially after charles darwin.[2]\\'\\n\\n\\'within the various uses of the word today, \"nature\" often refers to geology and wildlife. nature can refer to the general realm \\nof living plants and animals, and in some cases to the processes associated with inanimate objects—the way that particular types \\nof things exist and change of their own accord, such as the weather and geology of the earth.\\' \\n\\'it is often taken to mean the \"natural environment\" or wilderness—wild animals, rocks, forest, and in general those things that \\nhave not been substantially altered by human intervention, or which persist despite human intervention. for example, manufactured \\nobjects and human interaction generally are not considered part of nature, unless qualified as, for example, \"human nature\" or \"the whole of nature\".\\nthis more traditional concept of natural things that can still be found today implies a distinction between the natural and the artificial, \\nwith the artificial being understood as that which has been brought into being by a human consciousness or a human mind. depending on the particular context, \\nthe term \"natural\" might also be distinguished from the unnatural or the supernatural.[2]\\'\\n'"
      ]
     },
     "execution_count": 80,
     "metadata": {},
     "output_type": "execute_result"
    }
   ],
   "source": [
    "df"
   ]
  },
  {
   "cell_type": "code",
   "execution_count": 84,
   "id": "f5498494",
   "metadata": {
    "scrolled": true
   },
   "outputs": [
    {
     "name": "stdout",
     "output_type": "stream",
     "text": [
      " Nature is an inherent character or constitution particularly of the ecosphere or the universe as a whole In this general sense nature refers to the laws elements and phenomena of the physical world including life Although humans are part of nature human activity or humans as a whole are often described as at times at odds or outright separate and even superior to nature During the advent of modern scientific method in the last several centuries nature became the passive reality organized and moved by divine laws With the Industrial revolution nature increasingly became seen as the part of reality deprived from intentional intervention it was hence considered as sacred by some traditions Rousseau American transcendentalism or a mere decorum for divine providence or human history Hegel Marx However a vitalist vision of nature closer to the pre Socratic one got reborn at the same time especially after Charles Darwin Within the various uses of the word today nature often refers to geology and wildlife Nature can refer to the general realm of living plants and animals and in some cases to the processes associated with inanimate objects the way that particular types of things exist and change of their own accord such as the weather and geology of the Earth It is often taken to mean the natural environment or wilderness wild animals rocks forest and in general those things that have not been substantially altered by human intervention or which persist despite human intervention For example manufactured objects and human interaction generally are not considered part of nature unless qualified as for example human nature or the whole of nature This more traditional concept of natural things that can still be found today implies a distinction between the natural and the artificial with the artificial being understood as that which has been brought into being by a human consciousness or a human mind Depending on the particular context the term natural might also be distinguished from the unnatural or the supernatural \n"
     ]
    }
   ],
   "source": [
    "import re\n",
    "cleaned_text = re.sub(r'[^A-Za-z]+', ' ', data)\n",
    "print(cleaned_text)\n"
   ]
  },
  {
   "cell_type": "code",
   "execution_count": 82,
   "id": "cd2bf1be",
   "metadata": {},
   "outputs": [
    {
     "name": "stdout",
     "output_type": "stream",
     "text": [
      "Requirement already satisfied: nltk in ./anaconda3/lib/python3.11/site-packages (3.8.1)\r\n",
      "Requirement already satisfied: click in ./anaconda3/lib/python3.11/site-packages (from nltk) (8.0.4)\r\n",
      "Requirement already satisfied: joblib in ./anaconda3/lib/python3.11/site-packages (from nltk) (1.2.0)\r\n",
      "Requirement already satisfied: regex>=2021.8.3 in ./anaconda3/lib/python3.11/site-packages (from nltk) (2022.7.9)\r\n",
      "Requirement already satisfied: tqdm in ./anaconda3/lib/python3.11/site-packages (from nltk) (4.65.0)\r\n"
     ]
    }
   ],
   "source": [
    "#remove all the stopwords \n",
    "!pip install nltk"
   ]
  },
  {
   "cell_type": "code",
   "execution_count": 56,
   "id": "eea0028f",
   "metadata": {},
   "outputs": [],
   "source": [
    "from nltk.corpus import stopwords\n",
    "from nltk.tokenize import word_tokenize\n",
    "import nltk"
   ]
  },
  {
   "cell_type": "code",
   "execution_count": 61,
   "id": "a0d6d6dc",
   "metadata": {},
   "outputs": [
    {
     "name": "stderr",
     "output_type": "stream",
     "text": [
      "[nltk_data] Downloading package stopwords to\n",
      "[nltk_data]     /Users/ravina/nltk_data...\n",
      "[nltk_data]   Package stopwords is already up-to-date!\n"
     ]
    },
    {
     "data": {
      "text/plain": [
       "True"
      ]
     },
     "execution_count": 61,
     "metadata": {},
     "output_type": "execute_result"
    }
   ],
   "source": [
    "nltk.download('stopwords')\n"
   ]
  },
  {
   "cell_type": "code",
   "execution_count": 65,
   "id": "38150d5a",
   "metadata": {},
   "outputs": [],
   "source": [
    "stop_words=set(stopwords.words('english'))"
   ]
  },
  {
   "cell_type": "code",
   "execution_count": 85,
   "id": "2a80e60b",
   "metadata": {},
   "outputs": [
    {
     "name": "stdout",
     "output_type": "stream",
     "text": [
      "Nature inherent character constitution particularly ecosphere universe whole In general sense nature refers laws elements phenomena physical world including life Although humans part nature human activity humans whole often described times odds outright separate even superior nature During advent modern scientific method last several centuries nature became passive reality organized moved divine laws With Industrial revolution nature increasingly became seen part reality deprived intentional intervention hence considered sacred traditions Rousseau American transcendentalism mere decorum divine providence human history Hegel Marx However vitalist vision nature closer pre Socratic one got reborn time especially Charles Darwin Within various uses word today nature often refers geology wildlife Nature refer general realm living plants animals cases processes associated inanimate objects way particular types things exist change accord weather geology Earth It often taken mean natural environment wilderness wild animals rocks forest general things substantially altered human intervention persist despite human intervention For example manufactured objects human interaction generally considered part nature unless qualified example human nature whole nature This traditional concept natural things still found today implies distinction natural artificial artificial understood brought human consciousness human mind Depending particular context term natural might also distinguished unnatural supernatural\n"
     ]
    }
   ],
   "source": [
    "tokenized_text = cleaned_text.split()\n",
    "text = [word for word in tokenized_text if word not in stop_words]\n",
    "joined_text = ' '.join(text)\n",
    "print(joined_text)\n"
   ]
  },
  {
   "cell_type": "code",
   "execution_count": null,
   "id": "e1e85208",
   "metadata": {},
   "outputs": [],
   "source": []
  }
 ],
 "metadata": {
  "kernelspec": {
   "display_name": "Python 3 (ipykernel)",
   "language": "python",
   "name": "python3"
  },
  "language_info": {
   "codemirror_mode": {
    "name": "ipython",
    "version": 3
   },
   "file_extension": ".py",
   "mimetype": "text/x-python",
   "name": "python",
   "nbconvert_exporter": "python",
   "pygments_lexer": "ipython3",
   "version": "3.11.4"
  }
 },
 "nbformat": 4,
 "nbformat_minor": 5
}

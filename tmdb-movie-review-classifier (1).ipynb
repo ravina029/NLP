{
 "cells": [
  {
   "cell_type": "code",
   "execution_count": 1,
   "id": "53b8fe0f",
   "metadata": {
    "_cell_guid": "b1076dfc-b9ad-4769-8c92-a6c4dae69d19",
    "_uuid": "8f2839f25d086af736a60e9eeb907d3b93b6e0e5",
    "execution": {
     "iopub.execute_input": "2024-02-07T11:22:51.925668Z",
     "iopub.status.busy": "2024-02-07T11:22:51.924855Z",
     "iopub.status.idle": "2024-02-07T11:22:53.069440Z",
     "shell.execute_reply": "2024-02-07T11:22:53.068182Z"
    },
    "papermill": {
     "duration": 1.170594,
     "end_time": "2024-02-07T11:22:53.072043",
     "exception": false,
     "start_time": "2024-02-07T11:22:51.901449",
     "status": "completed"
    },
    "tags": []
   },
   "outputs": [
    {
     "name": "stdout",
     "output_type": "stream",
     "text": [
      "/kaggle/input/imdb-dataset-of-50k-movie-reviews/IMDB Dataset.csv\n"
     ]
    }
   ],
   "source": [
    "# This Python 3 environment comes with many helpful analytics libraries installed\n",
    "# It is defined by the kaggle/python Docker image: https://github.com/kaggle/docker-python\n",
    "# For example, here's several helpful packages to load\n",
    "\n",
    "import numpy as np # linear algebra\n",
    "import pandas as pd # data processing, CSV file I/O (e.g. pd.read_csv)\n",
    "\n",
    "# Input data files are available in the read-only \"../input/\" directory\n",
    "# For example, running this (by clicking run or pressing Shift+Enter) will list all files under the input directory\n",
    "\n",
    "import os\n",
    "for dirname, _, filenames in os.walk('/kaggle/input'):\n",
    "    for filename in filenames:\n",
    "        print(os.path.join(dirname, filename))\n",
    "\n",
    "# You can write up to 20GB to the current directory (/kaggle/working/) that gets preserved as output when you create a version using \"Save & Run All\" \n",
    "# You can also write temporary files to /kaggle/temp/, but they won't be saved outside of the current session"
   ]
  },
  {
   "cell_type": "code",
   "execution_count": 2,
   "id": "6ac7f556",
   "metadata": {
    "execution": {
     "iopub.execute_input": "2024-02-07T11:22:53.116322Z",
     "iopub.status.busy": "2024-02-07T11:22:53.115516Z",
     "iopub.status.idle": "2024-02-07T11:22:53.120529Z",
     "shell.execute_reply": "2024-02-07T11:22:53.119664Z"
    },
    "papermill": {
     "duration": 0.029689,
     "end_time": "2024-02-07T11:22:53.122891",
     "exception": false,
     "start_time": "2024-02-07T11:22:53.093202",
     "status": "completed"
    },
    "tags": []
   },
   "outputs": [],
   "source": [
    "import pandas as pd \n",
    "import matplotlib.pyplot as plt\n",
    "import numpy as np"
   ]
  },
  {
   "cell_type": "code",
   "execution_count": 3,
   "id": "163f4850",
   "metadata": {
    "execution": {
     "iopub.execute_input": "2024-02-07T11:22:53.167856Z",
     "iopub.status.busy": "2024-02-07T11:22:53.167117Z",
     "iopub.status.idle": "2024-02-07T11:22:54.697865Z",
     "shell.execute_reply": "2024-02-07T11:22:54.696662Z"
    },
    "papermill": {
     "duration": 1.555994,
     "end_time": "2024-02-07T11:22:54.700775",
     "exception": false,
     "start_time": "2024-02-07T11:22:53.144781",
     "status": "completed"
    },
    "tags": []
   },
   "outputs": [],
   "source": [
    "df=pd.read_csv(\"/kaggle/input/imdb-dataset-of-50k-movie-reviews/IMDB Dataset.csv\")"
   ]
  },
  {
   "cell_type": "code",
   "execution_count": 4,
   "id": "585a9850",
   "metadata": {
    "execution": {
     "iopub.execute_input": "2024-02-07T11:22:54.744152Z",
     "iopub.status.busy": "2024-02-07T11:22:54.743756Z",
     "iopub.status.idle": "2024-02-07T11:22:54.751391Z",
     "shell.execute_reply": "2024-02-07T11:22:54.750212Z"
    },
    "papermill": {
     "duration": 0.032419,
     "end_time": "2024-02-07T11:22:54.754119",
     "exception": false,
     "start_time": "2024-02-07T11:22:54.721700",
     "status": "completed"
    },
    "tags": []
   },
   "outputs": [
    {
     "data": {
      "text/plain": [
       "(50000, 2)"
      ]
     },
     "execution_count": 4,
     "metadata": {},
     "output_type": "execute_result"
    }
   ],
   "source": [
    "df.shape"
   ]
  },
  {
   "cell_type": "markdown",
   "id": "8d1b4c37",
   "metadata": {
    "papermill": {
     "duration": 0.020535,
     "end_time": "2024-02-07T11:22:54.795604",
     "exception": false,
     "start_time": "2024-02-07T11:22:54.775069",
     "status": "completed"
    },
    "tags": []
   },
   "source": [
    "# This dataset is quite big let's analyze only first 10000 movies"
   ]
  },
  {
   "cell_type": "code",
   "execution_count": 5,
   "id": "8a7fd57f",
   "metadata": {
    "execution": {
     "iopub.execute_input": "2024-02-07T11:22:54.838748Z",
     "iopub.status.busy": "2024-02-07T11:22:54.838343Z",
     "iopub.status.idle": "2024-02-07T11:22:54.845498Z",
     "shell.execute_reply": "2024-02-07T11:22:54.844413Z"
    },
    "papermill": {
     "duration": 0.032102,
     "end_time": "2024-02-07T11:22:54.848385",
     "exception": false,
     "start_time": "2024-02-07T11:22:54.816283",
     "status": "completed"
    },
    "tags": []
   },
   "outputs": [
    {
     "data": {
      "text/plain": [
       "(10000, 2)"
      ]
     },
     "execution_count": 5,
     "metadata": {},
     "output_type": "execute_result"
    }
   ],
   "source": [
    "df1=df.iloc[:10000]\n",
    "df1.shape"
   ]
  },
  {
   "cell_type": "code",
   "execution_count": 6,
   "id": "96ded345",
   "metadata": {
    "execution": {
     "iopub.execute_input": "2024-02-07T11:22:54.893528Z",
     "iopub.status.busy": "2024-02-07T11:22:54.893111Z",
     "iopub.status.idle": "2024-02-07T11:22:54.920385Z",
     "shell.execute_reply": "2024-02-07T11:22:54.919169Z"
    },
    "papermill": {
     "duration": 0.053159,
     "end_time": "2024-02-07T11:22:54.923264",
     "exception": false,
     "start_time": "2024-02-07T11:22:54.870105",
     "status": "completed"
    },
    "tags": []
   },
   "outputs": [
    {
     "data": {
      "text/html": [
       "<div>\n",
       "<style scoped>\n",
       "    .dataframe tbody tr th:only-of-type {\n",
       "        vertical-align: middle;\n",
       "    }\n",
       "\n",
       "    .dataframe tbody tr th {\n",
       "        vertical-align: top;\n",
       "    }\n",
       "\n",
       "    .dataframe thead th {\n",
       "        text-align: right;\n",
       "    }\n",
       "</style>\n",
       "<table border=\"1\" class=\"dataframe\">\n",
       "  <thead>\n",
       "    <tr style=\"text-align: right;\">\n",
       "      <th></th>\n",
       "      <th>review</th>\n",
       "      <th>sentiment</th>\n",
       "    </tr>\n",
       "  </thead>\n",
       "  <tbody>\n",
       "    <tr>\n",
       "      <th>3239</th>\n",
       "      <td>Writer/Director/Co-Star Adam Jones is headed f...</td>\n",
       "      <td>positive</td>\n",
       "    </tr>\n",
       "    <tr>\n",
       "      <th>7822</th>\n",
       "      <td>This is a great film for pure entertainment, n...</td>\n",
       "      <td>positive</td>\n",
       "    </tr>\n",
       "    <tr>\n",
       "      <th>6052</th>\n",
       "      <td>This is a fine, under-rated film and Rip Torn,...</td>\n",
       "      <td>positive</td>\n",
       "    </tr>\n",
       "  </tbody>\n",
       "</table>\n",
       "</div>"
      ],
      "text/plain": [
       "                                                 review sentiment\n",
       "3239  Writer/Director/Co-Star Adam Jones is headed f...  positive\n",
       "7822  This is a great film for pure entertainment, n...  positive\n",
       "6052  This is a fine, under-rated film and Rip Torn,...  positive"
      ]
     },
     "execution_count": 6,
     "metadata": {},
     "output_type": "execute_result"
    }
   ],
   "source": [
    "df1.sample(3)   #random 3 records"
   ]
  },
  {
   "cell_type": "code",
   "execution_count": 7,
   "id": "dd45fd86",
   "metadata": {
    "execution": {
     "iopub.execute_input": "2024-02-07T11:22:54.967630Z",
     "iopub.status.busy": "2024-02-07T11:22:54.967172Z",
     "iopub.status.idle": "2024-02-07T11:22:54.988788Z",
     "shell.execute_reply": "2024-02-07T11:22:54.987434Z"
    },
    "papermill": {
     "duration": 0.046828,
     "end_time": "2024-02-07T11:22:54.991314",
     "exception": false,
     "start_time": "2024-02-07T11:22:54.944486",
     "status": "completed"
    },
    "tags": []
   },
   "outputs": [
    {
     "data": {
      "text/plain": [
       "sentiment\n",
       "positive    5028\n",
       "negative    4972\n",
       "Name: count, dtype: int64"
      ]
     },
     "execution_count": 7,
     "metadata": {},
     "output_type": "execute_result"
    }
   ],
   "source": [
    "df1['sentiment'].value_counts()"
   ]
  },
  {
   "cell_type": "markdown",
   "id": "49da0f57",
   "metadata": {
    "papermill": {
     "duration": 0.021174,
     "end_time": "2024-02-07T11:22:55.033943",
     "exception": false,
     "start_time": "2024-02-07T11:22:55.012769",
     "status": "completed"
    },
    "tags": []
   },
   "source": [
    "# Observation:\n",
    "Our data is balanced dataset"
   ]
  },
  {
   "cell_type": "code",
   "execution_count": 8,
   "id": "231af39c",
   "metadata": {
    "execution": {
     "iopub.execute_input": "2024-02-07T11:22:55.079272Z",
     "iopub.status.busy": "2024-02-07T11:22:55.078101Z",
     "iopub.status.idle": "2024-02-07T11:22:55.090200Z",
     "shell.execute_reply": "2024-02-07T11:22:55.089026Z"
    },
    "papermill": {
     "duration": 0.03749,
     "end_time": "2024-02-07T11:22:55.092789",
     "exception": false,
     "start_time": "2024-02-07T11:22:55.055299",
     "status": "completed"
    },
    "tags": []
   },
   "outputs": [
    {
     "data": {
      "text/plain": [
       "review       0\n",
       "sentiment    0\n",
       "dtype: int64"
      ]
     },
     "execution_count": 8,
     "metadata": {},
     "output_type": "execute_result"
    }
   ],
   "source": [
    "df1.isnull().sum()"
   ]
  },
  {
   "cell_type": "code",
   "execution_count": 9,
   "id": "1f1fe3c5",
   "metadata": {
    "execution": {
     "iopub.execute_input": "2024-02-07T11:22:55.138829Z",
     "iopub.status.busy": "2024-02-07T11:22:55.137596Z",
     "iopub.status.idle": "2024-02-07T11:22:55.188256Z",
     "shell.execute_reply": "2024-02-07T11:22:55.187074Z"
    },
    "papermill": {
     "duration": 0.076205,
     "end_time": "2024-02-07T11:22:55.190977",
     "exception": false,
     "start_time": "2024-02-07T11:22:55.114772",
     "status": "completed"
    },
    "tags": []
   },
   "outputs": [
    {
     "data": {
      "text/plain": [
       "17"
      ]
     },
     "execution_count": 9,
     "metadata": {},
     "output_type": "execute_result"
    }
   ],
   "source": [
    "df1.duplicated().sum()"
   ]
  },
  {
   "cell_type": "code",
   "execution_count": 10,
   "id": "07dca36d",
   "metadata": {
    "execution": {
     "iopub.execute_input": "2024-02-07T11:22:55.236493Z",
     "iopub.status.busy": "2024-02-07T11:22:55.235530Z",
     "iopub.status.idle": "2024-02-07T11:22:55.278876Z",
     "shell.execute_reply": "2024-02-07T11:22:55.277729Z"
    },
    "papermill": {
     "duration": 0.069587,
     "end_time": "2024-02-07T11:22:55.282129",
     "exception": false,
     "start_time": "2024-02-07T11:22:55.212542",
     "status": "completed"
    },
    "tags": []
   },
   "outputs": [
    {
     "name": "stderr",
     "output_type": "stream",
     "text": [
      "/tmp/ipykernel_18/4156330626.py:1: SettingWithCopyWarning: \n",
      "A value is trying to be set on a copy of a slice from a DataFrame\n",
      "\n",
      "See the caveats in the documentation: https://pandas.pydata.org/pandas-docs/stable/user_guide/indexing.html#returning-a-view-versus-a-copy\n",
      "  df1.drop_duplicates(inplace=True)\n"
     ]
    }
   ],
   "source": [
    "df1.drop_duplicates(inplace=True)"
   ]
  },
  {
   "cell_type": "code",
   "execution_count": 11,
   "id": "1bb10797",
   "metadata": {
    "execution": {
     "iopub.execute_input": "2024-02-07T11:22:55.327946Z",
     "iopub.status.busy": "2024-02-07T11:22:55.327259Z",
     "iopub.status.idle": "2024-02-07T11:22:55.362686Z",
     "shell.execute_reply": "2024-02-07T11:22:55.361549Z"
    },
    "papermill": {
     "duration": 0.061341,
     "end_time": "2024-02-07T11:22:55.365223",
     "exception": false,
     "start_time": "2024-02-07T11:22:55.303882",
     "status": "completed"
    },
    "tags": []
   },
   "outputs": [
    {
     "data": {
      "text/html": [
       "<div>\n",
       "<style scoped>\n",
       "    .dataframe tbody tr th:only-of-type {\n",
       "        vertical-align: middle;\n",
       "    }\n",
       "\n",
       "    .dataframe tbody tr th {\n",
       "        vertical-align: top;\n",
       "    }\n",
       "\n",
       "    .dataframe thead th {\n",
       "        text-align: right;\n",
       "    }\n",
       "</style>\n",
       "<table border=\"1\" class=\"dataframe\">\n",
       "  <thead>\n",
       "    <tr style=\"text-align: right;\">\n",
       "      <th></th>\n",
       "      <th>review</th>\n",
       "      <th>sentiment</th>\n",
       "    </tr>\n",
       "  </thead>\n",
       "  <tbody>\n",
       "    <tr>\n",
       "      <th>count</th>\n",
       "      <td>9983</td>\n",
       "      <td>9983</td>\n",
       "    </tr>\n",
       "    <tr>\n",
       "      <th>unique</th>\n",
       "      <td>9983</td>\n",
       "      <td>2</td>\n",
       "    </tr>\n",
       "    <tr>\n",
       "      <th>top</th>\n",
       "      <td>One of the other reviewers has mentioned that ...</td>\n",
       "      <td>positive</td>\n",
       "    </tr>\n",
       "    <tr>\n",
       "      <th>freq</th>\n",
       "      <td>1</td>\n",
       "      <td>5023</td>\n",
       "    </tr>\n",
       "  </tbody>\n",
       "</table>\n",
       "</div>"
      ],
      "text/plain": [
       "                                                   review sentiment\n",
       "count                                                9983      9983\n",
       "unique                                               9983         2\n",
       "top     One of the other reviewers has mentioned that ...  positive\n",
       "freq                                                    1      5023"
      ]
     },
     "execution_count": 11,
     "metadata": {},
     "output_type": "execute_result"
    }
   ],
   "source": [
    "df1.describe()"
   ]
  },
  {
   "cell_type": "code",
   "execution_count": 12,
   "id": "b9002e41",
   "metadata": {
    "execution": {
     "iopub.execute_input": "2024-02-07T11:22:55.412861Z",
     "iopub.status.busy": "2024-02-07T11:22:55.411876Z",
     "iopub.status.idle": "2024-02-07T11:22:55.614861Z",
     "shell.execute_reply": "2024-02-07T11:22:55.613759Z"
    },
    "papermill": {
     "duration": 0.229531,
     "end_time": "2024-02-07T11:22:55.617509",
     "exception": false,
     "start_time": "2024-02-07T11:22:55.387978",
     "status": "completed"
    },
    "tags": []
   },
   "outputs": [
    {
     "data": {
      "text/plain": [
       "<BarContainer object of 2 artists>"
      ]
     },
     "execution_count": 12,
     "metadata": {},
     "output_type": "execute_result"
    },
    {
     "data": {
      "image/png": "[encoded data removed]",
      "text/plain": [
       "<Figure size 640x480 with 1 Axes>"
      ]
     },
     "metadata": {},
     "output_type": "display_data"
    }
   ],
   "source": [
    "plt.bar(df1['sentiment'].value_counts().index, df1['sentiment'].value_counts())"
   ]
  },
  {
   "cell_type": "markdown",
   "id": "10024d97",
   "metadata": {
    "papermill": {
     "duration": 0.022251,
     "end_time": "2024-02-07T11:22:55.662112",
     "exception": false,
     "start_time": "2024-02-07T11:22:55.639861",
     "status": "completed"
    },
    "tags": []
   },
   "source": [
    "# text preprocessing\n",
    "1. lowercase the data\n",
    "2. remove unnecessary symbols and tags\n",
    "3. tokenization\n",
    "4. apply stopwords\n",
    "5. stemming"
   ]
  },
  {
   "cell_type": "code",
   "execution_count": 13,
   "id": "3efca933",
   "metadata": {
    "execution": {
     "iopub.execute_input": "2024-02-07T11:22:55.709265Z",
     "iopub.status.busy": "2024-02-07T11:22:55.708846Z",
     "iopub.status.idle": "2024-02-07T11:22:55.716998Z",
     "shell.execute_reply": "2024-02-07T11:22:55.715832Z"
    },
    "papermill": {
     "duration": 0.034553,
     "end_time": "2024-02-07T11:22:55.719348",
     "exception": false,
     "start_time": "2024-02-07T11:22:55.684795",
     "status": "completed"
    },
    "tags": []
   },
   "outputs": [
    {
     "data": {
      "text/plain": [
       "'Petter Mattei\\'s \"Love in the Time of Money\" is a visually stunning film to watch. Mr. Mattei offers us a vivid portrait about human relations. This is a movie that seems to be telling us what money, power and success do to people in the different situations we encounter. <br /><br />This being a variation on the Arthur Schnitzler\\'s play about the same theme, the director transfers the action to the present time New York where all these different characters meet and connect. Each one is connected in one way, or another to the next person, but no one seems to know the previous point of contact. Stylishly, the film has a sophisticated luxurious look. We are taken to see how these people live and the world they live in their own habitat.<br /><br />The only thing one gets out of all these souls in the picture is the different stages of loneliness each one inhabits. A big city is not exactly the best place in which human relations find sincere fulfillment, as one discerns is the case with most of the people we encounter.<br /><br />The acting is good under Mr. Mattei\\'s direction. Steve Buscemi, Rosario Dawson, Carol Kane, Michael Imperioli, Adrian Grenier, and the rest of the talented cast, make these characters come alive.<br /><br />We wish Mr. Mattei good luck and await anxiously for his next work.'"
      ]
     },
     "execution_count": 13,
     "metadata": {},
     "output_type": "execute_result"
    }
   ],
   "source": [
    "df1['review'][4]\n"
   ]
  },
  {
   "cell_type": "markdown",
   "id": "fca267c3",
   "metadata": {
    "papermill": {
     "duration": 0.022477,
     "end_time": "2024-02-07T11:22:55.764455",
     "exception": false,
     "start_time": "2024-02-07T11:22:55.741978",
     "status": "completed"
    },
    "tags": []
   },
   "source": [
    "# Observation:\n",
    "clearly text in review contains html tags and punctuation marks and other special characters, therefore we will remove these."
   ]
  },
  {
   "cell_type": "code",
   "execution_count": 14,
   "id": "3cfad17a",
   "metadata": {
    "execution": {
     "iopub.execute_input": "2024-02-07T11:22:55.811897Z",
     "iopub.status.busy": "2024-02-07T11:22:55.811208Z",
     "iopub.status.idle": "2024-02-07T11:22:55.816675Z",
     "shell.execute_reply": "2024-02-07T11:22:55.815422Z"
    },
    "papermill": {
     "duration": 0.031928,
     "end_time": "2024-02-07T11:22:55.819060",
     "exception": false,
     "start_time": "2024-02-07T11:22:55.787132",
     "status": "completed"
    },
    "tags": []
   },
   "outputs": [],
   "source": [
    "import warnings\n",
    "warnings.filterwarnings('ignore')"
   ]
  },
  {
   "cell_type": "code",
   "execution_count": 15,
   "id": "a15de0ae",
   "metadata": {
    "execution": {
     "iopub.execute_input": "2024-02-07T11:22:55.867018Z",
     "iopub.status.busy": "2024-02-07T11:22:55.865972Z",
     "iopub.status.idle": "2024-02-07T11:22:55.874071Z",
     "shell.execute_reply": "2024-02-07T11:22:55.872695Z"
    },
    "papermill": {
     "duration": 0.034718,
     "end_time": "2024-02-07T11:22:55.876498",
     "exception": false,
     "start_time": "2024-02-07T11:22:55.841780",
     "status": "completed"
    },
    "tags": []
   },
   "outputs": [
    {
     "data": {
      "text/plain": [
       "\"import re\\ndef remove_tags(text):\\n    clear_text=re.sub(re.compile('<.*?>'),'',text)\\n    return clear_text\\n    \""
      ]
     },
     "execution_count": 15,
     "metadata": {},
     "output_type": "execute_result"
    }
   ],
   "source": [
    "#remove html tags and from the text, instead of this i will prefer code in the next cell to remove all the tags and unwanted symbols from the text\n",
    "\"\"\"import re\n",
    "def remove_tags(text):\n",
    "    clear_text=re.sub(re.compile('<.*?>'),'',text)\n",
    "    return clear_text\n",
    "    \"\"\""
   ]
  },
  {
   "cell_type": "code",
   "execution_count": 16,
   "id": "352a4cee",
   "metadata": {
    "execution": {
     "iopub.execute_input": "2024-02-07T11:22:55.924635Z",
     "iopub.status.busy": "2024-02-07T11:22:55.923313Z",
     "iopub.status.idle": "2024-02-07T11:22:58.407425Z",
     "shell.execute_reply": "2024-02-07T11:22:58.406169Z"
    },
    "papermill": {
     "duration": 2.510864,
     "end_time": "2024-02-07T11:22:58.410010",
     "exception": false,
     "start_time": "2024-02-07T11:22:55.899146",
     "status": "completed"
    },
    "tags": []
   },
   "outputs": [
    {
     "data": {
      "text/plain": [
       "'One of the other reviewers has mentioned that after watching just 1 Oz episode youll be hooked They are right as this is exactly what happened with mebr br The first thing that struck me about Oz was its brutality and unflinching scenes of violence which set in right from the word GO Trust me this is not a show for the faint hearted or timid This show pulls no punches with regards to drugs sex or violence Its is hardcore in the classic use of the wordbr br It is called OZ as that is the nickname given to the Oswald Maximum Security State Penitentary It focuses mainly on Emerald City an experimental section of the prison where all the cells have glass fronts and face inwards so privacy is not high on the agenda Em City is home to manyAryans Muslims gangstas Latinos Christians Italians Irish and moreso scuffles death stares dodgy dealings and shady agreements are never far awaybr br I would say the main appeal of the show is due to the fact that it goes where other shows wouldnt dare Forget pretty pictures painted for mainstream audiences forget charm forget romanceOZ doesnt mess around The first episode I ever saw struck me as so nasty it was surreal I couldnt say I was ready for it but as I watched more I developed a taste for Oz and got accustomed to the high levels of graphic violence Not just violence but injustice crooked guards wholl be sold out for a nickel inmates wholl kill on order and get away with it well mannered middle class inmates being turned into prison bitches due to their lack of street skills or prison experience Watching Oz you may become comfortable with what is uncomfortable viewingthats if you can get in touch with your darker side'"
      ]
     },
     "execution_count": 16,
     "metadata": {},
     "output_type": "execute_result"
    }
   ],
   "source": [
    "df1['review'] = df1['review'].apply(lambda x: ''.join(char for char in x if char.isalnum() or char.isspace()))\n",
    "#df1['review']=df1['review'].apply(lambda x: x.lower())\n",
    "df1['review'][0]\n"
   ]
  },
  {
   "cell_type": "code",
   "execution_count": 17,
   "id": "3110ecf2",
   "metadata": {
    "execution": {
     "iopub.execute_input": "2024-02-07T11:22:58.519566Z",
     "iopub.status.busy": "2024-02-07T11:22:58.519123Z",
     "iopub.status.idle": "2024-02-07T11:22:58.570409Z",
     "shell.execute_reply": "2024-02-07T11:22:58.569205Z"
    },
    "papermill": {
     "duration": 0.140392,
     "end_time": "2024-02-07T11:22:58.573168",
     "exception": false,
     "start_time": "2024-02-07T11:22:58.432776",
     "status": "completed"
    },
    "tags": []
   },
   "outputs": [
    {
     "data": {
      "text/plain": [
       "'one of the other reviewers has mentioned that after watching just 1 oz episode youll be hooked they are right as this is exactly what happened with mebr br the first thing that struck me about oz was its brutality and unflinching scenes of violence which set in right from the word go trust me this is not a show for the faint hearted or timid this show pulls no punches with regards to drugs sex or violence its is hardcore in the classic use of the wordbr br it is called oz as that is the nickname given to the oswald maximum security state penitentary it focuses mainly on emerald city an experimental section of the prison where all the cells have glass fronts and face inwards so privacy is not high on the agenda em city is home to manyaryans muslims gangstas latinos christians italians irish and moreso scuffles death stares dodgy dealings and shady agreements are never far awaybr br i would say the main appeal of the show is due to the fact that it goes where other shows wouldnt dare forget pretty pictures painted for mainstream audiences forget charm forget romanceoz doesnt mess around the first episode i ever saw struck me as so nasty it was surreal i couldnt say i was ready for it but as i watched more i developed a taste for oz and got accustomed to the high levels of graphic violence not just violence but injustice crooked guards wholl be sold out for a nickel inmates wholl kill on order and get away with it well mannered middle class inmates being turned into prison bitches due to their lack of street skills or prison experience watching oz you may become comfortable with what is uncomfortable viewingthats if you can get in touch with your darker side'"
      ]
     },
     "execution_count": 17,
     "metadata": {},
     "output_type": "execute_result"
    }
   ],
   "source": [
    "df1['review']=df1['review'].apply(lambda x: x.lower())\n",
    "df1['review'][0]    "
   ]
  },
  {
   "cell_type": "code",
   "execution_count": 18,
   "id": "d19bf5d2",
   "metadata": {
    "execution": {
     "iopub.execute_input": "2024-02-07T11:22:58.623319Z",
     "iopub.status.busy": "2024-02-07T11:22:58.622779Z",
     "iopub.status.idle": "2024-02-07T11:23:01.177862Z",
     "shell.execute_reply": "2024-02-07T11:23:01.176733Z"
    },
    "papermill": {
     "duration": 2.583986,
     "end_time": "2024-02-07T11:23:01.181354",
     "exception": false,
     "start_time": "2024-02-07T11:22:58.597368",
     "status": "completed"
    },
    "tags": []
   },
   "outputs": [],
   "source": [
    "#apply stopwords\n",
    "import nltk\n",
    "from nltk.corpus import stopwords\n"
   ]
  },
  {
   "cell_type": "code",
   "execution_count": 19,
   "id": "84412f40",
   "metadata": {
    "execution": {
     "iopub.execute_input": "2024-02-07T11:23:01.229778Z",
     "iopub.status.busy": "2024-02-07T11:23:01.229363Z",
     "iopub.status.idle": "2024-02-07T11:23:01.310687Z",
     "shell.execute_reply": "2024-02-07T11:23:01.308713Z"
    },
    "papermill": {
     "duration": 0.108458,
     "end_time": "2024-02-07T11:23:01.313274",
     "exception": false,
     "start_time": "2024-02-07T11:23:01.204816",
     "status": "completed"
    },
    "tags": []
   },
   "outputs": [
    {
     "name": "stdout",
     "output_type": "stream",
     "text": [
      "[nltk_data] Downloading package stopwords to /usr/share/nltk_data...\n",
      "[nltk_data]   Package stopwords is already up-to-date!\n"
     ]
    }
   ],
   "source": [
    "nltk.download('stopwords')\n",
    "stop_words=stopwords.words('english')"
   ]
  },
  {
   "cell_type": "code",
   "execution_count": 20,
   "id": "b606e72a",
   "metadata": {
    "execution": {
     "iopub.execute_input": "2024-02-07T11:23:01.361704Z",
     "iopub.status.busy": "2024-02-07T11:23:01.361245Z",
     "iopub.status.idle": "2024-02-07T11:23:06.394505Z",
     "shell.execute_reply": "2024-02-07T11:23:06.393264Z"
    },
    "papermill": {
     "duration": 5.060367,
     "end_time": "2024-02-07T11:23:06.396991",
     "exception": false,
     "start_time": "2024-02-07T11:23:01.336624",
     "status": "completed"
    },
    "tags": []
   },
   "outputs": [
    {
     "data": {
      "text/plain": [
       "'one reviewers mentioned watching 1 oz episode youll hooked right exactly happened mebr br first thing struck oz brutality unflinching scenes violence set right word go trust show faint hearted timid show pulls punches regards drugs sex violence hardcore classic use wordbr br called oz nickname given oswald maximum security state penitentary focuses mainly emerald city experimental section prison cells glass fronts face inwards privacy high agenda em city home manyaryans muslims gangstas latinos christians italians irish moreso scuffles death stares dodgy dealings shady agreements never far awaybr br would say main appeal show due fact goes shows wouldnt dare forget pretty pictures painted mainstream audiences forget charm forget romanceoz doesnt mess around first episode ever saw struck nasty surreal couldnt say ready watched developed taste oz got accustomed high levels graphic violence violence injustice crooked guards wholl sold nickel inmates wholl kill order get away well mannered middle class inmates turned prison bitches due lack street skills prison experience watching oz may become comfortable uncomfortable viewingthats get touch darker side'"
      ]
     },
     "execution_count": 20,
     "metadata": {},
     "output_type": "execute_result"
    }
   ],
   "source": [
    "#removing stopwords\n",
    "df1['review']=df1['review'].apply(lambda x: [item for item in x.split() if item not in stop_words]).apply(lambda x: \" \".join(x))\n",
    "df1['review'][0]"
   ]
  },
  {
   "cell_type": "code",
   "execution_count": 21,
   "id": "08863af6",
   "metadata": {
    "execution": {
     "iopub.execute_input": "2024-02-07T11:23:06.446224Z",
     "iopub.status.busy": "2024-02-07T11:23:06.445397Z",
     "iopub.status.idle": "2024-02-07T11:23:06.456752Z",
     "shell.execute_reply": "2024-02-07T11:23:06.455876Z"
    },
    "papermill": {
     "duration": 0.038551,
     "end_time": "2024-02-07T11:23:06.459224",
     "exception": false,
     "start_time": "2024-02-07T11:23:06.420673",
     "status": "completed"
    },
    "tags": []
   },
   "outputs": [
    {
     "data": {
      "text/html": [
       "<div>\n",
       "<style scoped>\n",
       "    .dataframe tbody tr th:only-of-type {\n",
       "        vertical-align: middle;\n",
       "    }\n",
       "\n",
       "    .dataframe tbody tr th {\n",
       "        vertical-align: top;\n",
       "    }\n",
       "\n",
       "    .dataframe thead th {\n",
       "        text-align: right;\n",
       "    }\n",
       "</style>\n",
       "<table border=\"1\" class=\"dataframe\">\n",
       "  <thead>\n",
       "    <tr style=\"text-align: right;\">\n",
       "      <th></th>\n",
       "      <th>review</th>\n",
       "      <th>sentiment</th>\n",
       "    </tr>\n",
       "  </thead>\n",
       "  <tbody>\n",
       "    <tr>\n",
       "      <th>0</th>\n",
       "      <td>one reviewers mentioned watching 1 oz episode ...</td>\n",
       "      <td>positive</td>\n",
       "    </tr>\n",
       "    <tr>\n",
       "      <th>1</th>\n",
       "      <td>wonderful little production br br filming tech...</td>\n",
       "      <td>positive</td>\n",
       "    </tr>\n",
       "    <tr>\n",
       "      <th>2</th>\n",
       "      <td>thought wonderful way spend time hot summer we...</td>\n",
       "      <td>positive</td>\n",
       "    </tr>\n",
       "    <tr>\n",
       "      <th>3</th>\n",
       "      <td>basically theres family little boy jake thinks...</td>\n",
       "      <td>negative</td>\n",
       "    </tr>\n",
       "    <tr>\n",
       "      <th>4</th>\n",
       "      <td>petter matteis love time money visually stunni...</td>\n",
       "      <td>positive</td>\n",
       "    </tr>\n",
       "  </tbody>\n",
       "</table>\n",
       "</div>"
      ],
      "text/plain": [
       "                                              review sentiment\n",
       "0  one reviewers mentioned watching 1 oz episode ...  positive\n",
       "1  wonderful little production br br filming tech...  positive\n",
       "2  thought wonderful way spend time hot summer we...  positive\n",
       "3  basically theres family little boy jake thinks...  negative\n",
       "4  petter matteis love time money visually stunni...  positive"
      ]
     },
     "execution_count": 21,
     "metadata": {},
     "output_type": "execute_result"
    }
   ],
   "source": [
    "#after applying all the text preprocessing, df1 is\n",
    "df1.head(5)"
   ]
  },
  {
   "cell_type": "code",
   "execution_count": 22,
   "id": "8b9dafdd",
   "metadata": {
    "execution": {
     "iopub.execute_input": "2024-02-07T11:23:06.508978Z",
     "iopub.status.busy": "2024-02-07T11:23:06.508573Z",
     "iopub.status.idle": "2024-02-07T11:23:06.515347Z",
     "shell.execute_reply": "2024-02-07T11:23:06.514200Z"
    },
    "papermill": {
     "duration": 0.034479,
     "end_time": "2024-02-07T11:23:06.517690",
     "exception": false,
     "start_time": "2024-02-07T11:23:06.483211",
     "status": "completed"
    },
    "tags": []
   },
   "outputs": [],
   "source": [
    "#Splitting X and y \n",
    "X=df1.iloc[:,0:1]\n",
    "y=df1['sentiment']"
   ]
  },
  {
   "cell_type": "code",
   "execution_count": 23,
   "id": "60421f01",
   "metadata": {
    "execution": {
     "iopub.execute_input": "2024-02-07T11:23:06.567772Z",
     "iopub.status.busy": "2024-02-07T11:23:06.567265Z",
     "iopub.status.idle": "2024-02-07T11:23:06.578209Z",
     "shell.execute_reply": "2024-02-07T11:23:06.577036Z"
    },
    "papermill": {
     "duration": 0.038921,
     "end_time": "2024-02-07T11:23:06.580910",
     "exception": false,
     "start_time": "2024-02-07T11:23:06.541989",
     "status": "completed"
    },
    "tags": []
   },
   "outputs": [
    {
     "data": {
      "text/html": [
       "<div>\n",
       "<style scoped>\n",
       "    .dataframe tbody tr th:only-of-type {\n",
       "        vertical-align: middle;\n",
       "    }\n",
       "\n",
       "    .dataframe tbody tr th {\n",
       "        vertical-align: top;\n",
       "    }\n",
       "\n",
       "    .dataframe thead th {\n",
       "        text-align: right;\n",
       "    }\n",
       "</style>\n",
       "<table border=\"1\" class=\"dataframe\">\n",
       "  <thead>\n",
       "    <tr style=\"text-align: right;\">\n",
       "      <th></th>\n",
       "      <th>review</th>\n",
       "    </tr>\n",
       "  </thead>\n",
       "  <tbody>\n",
       "    <tr>\n",
       "      <th>0</th>\n",
       "      <td>one reviewers mentioned watching 1 oz episode ...</td>\n",
       "    </tr>\n",
       "    <tr>\n",
       "      <th>1</th>\n",
       "      <td>wonderful little production br br filming tech...</td>\n",
       "    </tr>\n",
       "    <tr>\n",
       "      <th>2</th>\n",
       "      <td>thought wonderful way spend time hot summer we...</td>\n",
       "    </tr>\n",
       "    <tr>\n",
       "      <th>3</th>\n",
       "      <td>basically theres family little boy jake thinks...</td>\n",
       "    </tr>\n",
       "    <tr>\n",
       "      <th>4</th>\n",
       "      <td>petter matteis love time money visually stunni...</td>\n",
       "    </tr>\n",
       "  </tbody>\n",
       "</table>\n",
       "</div>"
      ],
      "text/plain": [
       "                                              review\n",
       "0  one reviewers mentioned watching 1 oz episode ...\n",
       "1  wonderful little production br br filming tech...\n",
       "2  thought wonderful way spend time hot summer we...\n",
       "3  basically theres family little boy jake thinks...\n",
       "4  petter matteis love time money visually stunni..."
      ]
     },
     "execution_count": 23,
     "metadata": {},
     "output_type": "execute_result"
    }
   ],
   "source": [
    "X.head()"
   ]
  },
  {
   "cell_type": "code",
   "execution_count": 24,
   "id": "c359aa16",
   "metadata": {
    "execution": {
     "iopub.execute_input": "2024-02-07T11:23:06.631095Z",
     "iopub.status.busy": "2024-02-07T11:23:06.630708Z",
     "iopub.status.idle": "2024-02-07T11:23:06.639811Z",
     "shell.execute_reply": "2024-02-07T11:23:06.638549Z"
    },
    "papermill": {
     "duration": 0.036955,
     "end_time": "2024-02-07T11:23:06.642186",
     "exception": false,
     "start_time": "2024-02-07T11:23:06.605231",
     "status": "completed"
    },
    "tags": []
   },
   "outputs": [
    {
     "data": {
      "text/plain": [
       "0       positive\n",
       "1       positive\n",
       "2       positive\n",
       "3       negative\n",
       "4       positive\n",
       "          ...   \n",
       "9995    positive\n",
       "9996    negative\n",
       "9997    negative\n",
       "9998    negative\n",
       "9999    positive\n",
       "Name: sentiment, Length: 9983, dtype: object"
      ]
     },
     "execution_count": 24,
     "metadata": {},
     "output_type": "execute_result"
    }
   ],
   "source": [
    "y"
   ]
  },
  {
   "cell_type": "code",
   "execution_count": 25,
   "id": "b83c6c1d",
   "metadata": {
    "execution": {
     "iopub.execute_input": "2024-02-07T11:23:06.692149Z",
     "iopub.status.busy": "2024-02-07T11:23:06.691718Z",
     "iopub.status.idle": "2024-02-07T11:23:06.703646Z",
     "shell.execute_reply": "2024-02-07T11:23:06.702400Z"
    },
    "papermill": {
     "duration": 0.039806,
     "end_time": "2024-02-07T11:23:06.706108",
     "exception": false,
     "start_time": "2024-02-07T11:23:06.666302",
     "status": "completed"
    },
    "tags": []
   },
   "outputs": [
    {
     "data": {
      "text/plain": [
       "array([1, 1, 1, ..., 0, 0, 1])"
      ]
     },
     "execution_count": 25,
     "metadata": {},
     "output_type": "execute_result"
    }
   ],
   "source": [
    "#transformation of column y uding lable encoder\n",
    "from sklearn.preprocessing import LabelEncoder\n",
    "encoder=LabelEncoder()\n",
    "y=encoder.fit_transform(y)\n",
    "y"
   ]
  },
  {
   "cell_type": "code",
   "execution_count": 26,
   "id": "bb3048db",
   "metadata": {
    "execution": {
     "iopub.execute_input": "2024-02-07T11:23:06.756709Z",
     "iopub.status.busy": "2024-02-07T11:23:06.756297Z",
     "iopub.status.idle": "2024-02-07T11:23:06.767915Z",
     "shell.execute_reply": "2024-02-07T11:23:06.766582Z"
    },
    "papermill": {
     "duration": 0.039888,
     "end_time": "2024-02-07T11:23:06.770450",
     "exception": false,
     "start_time": "2024-02-07T11:23:06.730562",
     "status": "completed"
    },
    "tags": []
   },
   "outputs": [],
   "source": [
    "from sklearn.model_selection import train_test_split\n",
    "X_train,X_test,y_train,y_test=train_test_split(X,y,test_size=0.25,random_state=24)"
   ]
  },
  {
   "cell_type": "code",
   "execution_count": 27,
   "id": "4db49ed8",
   "metadata": {
    "execution": {
     "iopub.execute_input": "2024-02-07T11:23:06.820433Z",
     "iopub.status.busy": "2024-02-07T11:23:06.819995Z",
     "iopub.status.idle": "2024-02-07T11:23:06.826700Z",
     "shell.execute_reply": "2024-02-07T11:23:06.825253Z"
    },
    "papermill": {
     "duration": 0.034775,
     "end_time": "2024-02-07T11:23:06.829414",
     "exception": false,
     "start_time": "2024-02-07T11:23:06.794639",
     "status": "completed"
    },
    "tags": []
   },
   "outputs": [
    {
     "name": "stdout",
     "output_type": "stream",
     "text": [
      "X_train_shape (7487, 1)\n",
      "X_test_shape (2496, 1)\n",
      "y_train_shape (7487,)\n",
      "y_test_shape (2496,)\n"
     ]
    }
   ],
   "source": [
    "print(\"X_train_shape\",X_train.shape)\n",
    "print(\"X_test_shape\",X_test.shape)\n",
    "print(\"y_train_shape\",y_train.shape)\n",
    "print(\"y_test_shape\",y_test.shape)"
   ]
  },
  {
   "cell_type": "code",
   "execution_count": 28,
   "id": "7dd914ed",
   "metadata": {
    "execution": {
     "iopub.execute_input": "2024-02-07T11:23:06.880440Z",
     "iopub.status.busy": "2024-02-07T11:23:06.880033Z",
     "iopub.status.idle": "2024-02-07T11:23:06.884452Z",
     "shell.execute_reply": "2024-02-07T11:23:06.883158Z"
    },
    "papermill": {
     "duration": 0.03302,
     "end_time": "2024-02-07T11:23:06.886838",
     "exception": false,
     "start_time": "2024-02-07T11:23:06.853818",
     "status": "completed"
    },
    "tags": []
   },
   "outputs": [],
   "source": [
    "#applying BOW for feature extraction\n",
    "from sklearn.feature_extraction.text import CountVectorizer\n"
   ]
  },
  {
   "cell_type": "code",
   "execution_count": 29,
   "id": "fa036a2f",
   "metadata": {
    "execution": {
     "iopub.execute_input": "2024-02-07T11:23:06.937307Z",
     "iopub.status.busy": "2024-02-07T11:23:06.936917Z",
     "iopub.status.idle": "2024-02-07T11:23:06.941882Z",
     "shell.execute_reply": "2024-02-07T11:23:06.940592Z"
    },
    "papermill": {
     "duration": 0.032977,
     "end_time": "2024-02-07T11:23:06.944060",
     "exception": false,
     "start_time": "2024-02-07T11:23:06.911083",
     "status": "completed"
    },
    "tags": []
   },
   "outputs": [],
   "source": [
    "cv=CountVectorizer()"
   ]
  },
  {
   "cell_type": "code",
   "execution_count": 30,
   "id": "2f23d21b",
   "metadata": {
    "execution": {
     "iopub.execute_input": "2024-02-07T11:23:06.995120Z",
     "iopub.status.busy": "2024-02-07T11:23:06.994051Z",
     "iopub.status.idle": "2024-02-07T11:23:10.737909Z",
     "shell.execute_reply": "2024-02-07T11:23:10.736730Z"
    },
    "papermill": {
     "duration": 3.772406,
     "end_time": "2024-02-07T11:23:10.740804",
     "exception": false,
     "start_time": "2024-02-07T11:23:06.968398",
     "status": "completed"
    },
    "tags": []
   },
   "outputs": [],
   "source": [
    "X_train_bow=cv.fit_transform(X_train['review']).toarray()\n",
    "X_test_bow=cv.transform(X_test['review']).toarray()"
   ]
  },
  {
   "cell_type": "code",
   "execution_count": 31,
   "id": "315145d1",
   "metadata": {
    "execution": {
     "iopub.execute_input": "2024-02-07T11:23:10.791833Z",
     "iopub.status.busy": "2024-02-07T11:23:10.791387Z",
     "iopub.status.idle": "2024-02-07T11:23:10.796949Z",
     "shell.execute_reply": "2024-02-07T11:23:10.796069Z"
    },
    "papermill": {
     "duration": 0.033768,
     "end_time": "2024-02-07T11:23:10.799464",
     "exception": false,
     "start_time": "2024-02-07T11:23:10.765696",
     "status": "completed"
    },
    "tags": []
   },
   "outputs": [
    {
     "name": "stdout",
     "output_type": "stream",
     "text": [
      "(7487, 64109)\n",
      "(2496, 64109)\n"
     ]
    }
   ],
   "source": [
    "print(X_train_bow.shape)\n",
    "print(X_test_bow.shape)\n"
   ]
  },
  {
   "cell_type": "code",
   "execution_count": 32,
   "id": "a733d473",
   "metadata": {
    "execution": {
     "iopub.execute_input": "2024-02-07T11:23:10.850884Z",
     "iopub.status.busy": "2024-02-07T11:23:10.850238Z",
     "iopub.status.idle": "2024-02-07T11:23:19.856416Z",
     "shell.execute_reply": "2024-02-07T11:23:19.855212Z"
    },
    "papermill": {
     "duration": 9.034499,
     "end_time": "2024-02-07T11:23:19.858935",
     "exception": false,
     "start_time": "2024-02-07T11:23:10.824436",
     "status": "completed"
    },
    "tags": []
   },
   "outputs": [
    {
     "data": {
      "text/html": [
       "<style>#sk-container-id-1 {color: black;background-color: white;}#sk-container-id-1 pre{padding: 0;}#sk-container-id-1 div.sk-toggleable {background-color: white;}#sk-container-id-1 label.sk-toggleable__label {cursor: pointer;display: block;width: 100%;margin-bottom: 0;padding: 0.3em;box-sizing: border-box;text-align: center;}#sk-container-id-1 label.sk-toggleable__label-arrow:before {content: \"▸\";float: left;margin-right: 0.25em;color: #696969;}#sk-container-id-1 label.sk-toggleable__label-arrow:hover:before {color: black;}#sk-container-id-1 div.sk-estimator:hover label.sk-toggleable__label-arrow:before {color: black;}#sk-container-id-1 div.sk-toggleable__content {max-height: 0;max-width: 0;overflow: hidden;text-align: left;background-color: #f0f8ff;}#sk-container-id-1 div.sk-toggleable__content pre {margin: 0.2em;color: black;border-radius: 0.25em;background-color: #f0f8ff;}#sk-container-id-1 input.sk-toggleable__control:checked~div.sk-toggleable__content {max-height: 200px;max-width: 100%;overflow: auto;}#sk-container-id-1 input.sk-toggleable__control:checked~label.sk-toggleable__label-arrow:before {content: \"▾\";}#sk-container-id-1 div.sk-estimator input.sk-toggleable__control:checked~label.sk-toggleable__label {background-color: #d4ebff;}#sk-container-id-1 div.sk-label input.sk-toggleable__control:checked~label.sk-toggleable__label {background-color: #d4ebff;}#sk-container-id-1 input.sk-hidden--visually {border: 0;clip: rect(1px 1px 1px 1px);clip: rect(1px, 1px, 1px, 1px);height: 1px;margin: -1px;overflow: hidden;padding: 0;position: absolute;width: 1px;}#sk-container-id-1 div.sk-estimator {font-family: monospace;background-color: #f0f8ff;border: 1px dotted black;border-radius: 0.25em;box-sizing: border-box;margin-bottom: 0.5em;}#sk-container-id-1 div.sk-estimator:hover {background-color: #d4ebff;}#sk-container-id-1 div.sk-parallel-item::after {content: \"\";width: 100%;border-bottom: 1px solid gray;flex-grow: 1;}#sk-container-id-1 div.sk-label:hover label.sk-toggleable__label {background-color: #d4ebff;}#sk-container-id-1 div.sk-serial::before {content: \"\";position: absolute;border-left: 1px solid gray;box-sizing: border-box;top: 0;bottom: 0;left: 50%;z-index: 0;}#sk-container-id-1 div.sk-serial {display: flex;flex-direction: column;align-items: center;background-color: white;padding-right: 0.2em;padding-left: 0.2em;position: relative;}#sk-container-id-1 div.sk-item {position: relative;z-index: 1;}#sk-container-id-1 div.sk-parallel {display: flex;align-items: stretch;justify-content: center;background-color: white;position: relative;}#sk-container-id-1 div.sk-item::before, #sk-container-id-1 div.sk-parallel-item::before {content: \"\";position: absolute;border-left: 1px solid gray;box-sizing: border-box;top: 0;bottom: 0;left: 50%;z-index: -1;}#sk-container-id-1 div.sk-parallel-item {display: flex;flex-direction: column;z-index: 1;position: relative;background-color: white;}#sk-container-id-1 div.sk-parallel-item:first-child::after {align-self: flex-end;width: 50%;}#sk-container-id-1 div.sk-parallel-item:last-child::after {align-self: flex-start;width: 50%;}#sk-container-id-1 div.sk-parallel-item:only-child::after {width: 0;}#sk-container-id-1 div.sk-dashed-wrapped {border: 1px dashed gray;margin: 0 0.4em 0.5em 0.4em;box-sizing: border-box;padding-bottom: 0.4em;background-color: white;}#sk-container-id-1 div.sk-label label {font-family: monospace;font-weight: bold;display: inline-block;line-height: 1.2em;}#sk-container-id-1 div.sk-label-container {text-align: center;}#sk-container-id-1 div.sk-container {/* jupyter's `normalize.less` sets `[hidden] { display: none; }` but bootstrap.min.css set `[hidden] { display: none !important; }` so we also need the `!important` here to be able to override the default hidden behavior on the sphinx rendered scikit-learn.org. See: https://github.com/scikit-learn/scikit-learn/issues/21755 */display: inline-block !important;position: relative;}#sk-container-id-1 div.sk-text-repr-fallback {display: none;}</style><div id=\"sk-container-id-1\" class=\"sk-top-container\"><div class=\"sk-text-repr-fallback\"><pre>GaussianNB()</pre><b>In a Jupyter environment, please rerun this cell to show the HTML representation or trust the notebook. <br />On GitHub, the HTML representation is unable to render, please try loading this page with nbviewer.org.</b></div><div class=\"sk-container\" hidden><div class=\"sk-item\"><div class=\"sk-estimator sk-toggleable\"><input class=\"sk-toggleable__control sk-hidden--visually\" id=\"sk-estimator-id-1\" type=\"checkbox\" checked><label for=\"sk-estimator-id-1\" class=\"sk-toggleable__label sk-toggleable__label-arrow\">GaussianNB</label><div class=\"sk-toggleable__content\"><pre>GaussianNB()</pre></div></div></div></div></div>"
      ],
      "text/plain": [
       "GaussianNB()"
      ]
     },
     "execution_count": 32,
     "metadata": {},
     "output_type": "execute_result"
    }
   ],
   "source": [
    "#Model building\n",
    "from sklearn.naive_bayes import GaussianNB\n",
    "gnb=GaussianNB()\n",
    "gnb.fit(X_train_bow,y_train)"
   ]
  },
  {
   "cell_type": "code",
   "execution_count": 33,
   "id": "62c6f2ee",
   "metadata": {
    "execution": {
     "iopub.execute_input": "2024-02-07T11:23:19.911859Z",
     "iopub.status.busy": "2024-02-07T11:23:19.911155Z",
     "iopub.status.idle": "2024-02-07T11:23:22.695527Z",
     "shell.execute_reply": "2024-02-07T11:23:22.694223Z"
    },
    "papermill": {
     "duration": 2.814704,
     "end_time": "2024-02-07T11:23:22.698569",
     "exception": false,
     "start_time": "2024-02-07T11:23:19.883865",
     "status": "completed"
    },
    "tags": []
   },
   "outputs": [
    {
     "data": {
      "text/plain": [
       "0.6354166666666666"
      ]
     },
     "execution_count": 33,
     "metadata": {},
     "output_type": "execute_result"
    }
   ],
   "source": [
    "y_pred=gnb.predict(X_test_bow)\n",
    "from sklearn.metrics import accuracy_score, confusion_matrix\n",
    "accuracy_score(y_test,y_pred)"
   ]
  },
  {
   "cell_type": "markdown",
   "id": "0575c362",
   "metadata": {
    "papermill": {
     "duration": 0.024492,
     "end_time": "2024-02-07T11:23:22.748690",
     "exception": false,
     "start_time": "2024-02-07T11:23:22.724198",
     "status": "completed"
    },
    "tags": []
   },
   "source": [
    "# Observation: \n",
    "accuracy of our model is not very good. There can be many reasons for that.\n",
    "1. we took a small dataset from the original one.\n",
    "2. also there can be issue with the selected model."
   ]
  },
  {
   "cell_type": "code",
   "execution_count": 34,
   "id": "3aa8ad93",
   "metadata": {
    "execution": {
     "iopub.execute_input": "2024-02-07T11:23:22.800701Z",
     "iopub.status.busy": "2024-02-07T11:23:22.800253Z",
     "iopub.status.idle": "2024-02-07T11:23:22.808881Z",
     "shell.execute_reply": "2024-02-07T11:23:22.807380Z"
    },
    "papermill": {
     "duration": 0.037369,
     "end_time": "2024-02-07T11:23:22.811259",
     "exception": false,
     "start_time": "2024-02-07T11:23:22.773890",
     "status": "completed"
    },
    "tags": []
   },
   "outputs": [
    {
     "name": "stdout",
     "output_type": "stream",
     "text": [
      "[[890 354]\n",
      " [556 696]]\n"
     ]
    }
   ],
   "source": [
    "print(confusion_matrix(y_test,y_pred))"
   ]
  },
  {
   "cell_type": "markdown",
   "id": "707ad6d6",
   "metadata": {
    "papermill": {
     "duration": 0.024789,
     "end_time": "2024-02-07T11:23:22.861782",
     "exception": false,
     "start_time": "2024-02-07T11:23:22.836993",
     "status": "completed"
    },
    "tags": []
   },
   "source": [
    " from confusion matrix it is clear that there are many wrong predictions."
   ]
  },
  {
   "cell_type": "code",
   "execution_count": 35,
   "id": "6bb7c873",
   "metadata": {
    "execution": {
     "iopub.execute_input": "2024-02-07T11:23:22.914693Z",
     "iopub.status.busy": "2024-02-07T11:23:22.913870Z",
     "iopub.status.idle": "2024-02-07T11:24:48.919132Z",
     "shell.execute_reply": "2024-02-07T11:24:48.917805Z"
    },
    "papermill": {
     "duration": 86.058975,
     "end_time": "2024-02-07T11:24:48.945720",
     "exception": false,
     "start_time": "2024-02-07T11:23:22.886745",
     "status": "completed"
    },
    "tags": []
   },
   "outputs": [
    {
     "name": "stdout",
     "output_type": "stream",
     "text": [
      "0.8421474358974359\n",
      "[[1031  213]\n",
      " [ 181 1071]]\n"
     ]
    }
   ],
   "source": [
    "#prediction with randomforestclassifier\n",
    "from sklearn.ensemble import RandomForestClassifier\n",
    "rf=RandomForestClassifier()\n",
    "\n",
    "rf.fit(X_train_bow,y_train)\n",
    "y_pred=rf.predict(X_test_bow)\n",
    "print(accuracy_score(y_test,y_pred))\n",
    "print(confusion_matrix(y_test,y_pred))"
   ]
  },
  {
   "cell_type": "markdown",
   "id": "4d919221",
   "metadata": {
    "papermill": {
     "duration": 0.026775,
     "end_time": "2024-02-07T11:24:48.998323",
     "exception": false,
     "start_time": "2024-02-07T11:24:48.971548",
     "status": "completed"
    },
    "tags": []
   },
   "source": [
    "Randomforest gives better accuracy than Naive bayes"
   ]
  },
  {
   "cell_type": "markdown",
   "id": "89c22b71",
   "metadata": {
    "papermill": {
     "duration": 0.024529,
     "end_time": "2024-02-07T11:24:49.047927",
     "exception": false,
     "start_time": "2024-02-07T11:24:49.023398",
     "status": "completed"
    },
    "tags": []
   },
   "source": [
    "# we can achieve better accuracy by \n",
    "1. selecting most frequent freatures from the vocanulary, and\n",
    "2. by hyper paramter tuning"
   ]
  },
  {
   "cell_type": "code",
   "execution_count": 36,
   "id": "4bee222e",
   "metadata": {
    "execution": {
     "iopub.execute_input": "2024-02-07T11:24:49.100256Z",
     "iopub.status.busy": "2024-02-07T11:24:49.099833Z",
     "iopub.status.idle": "2024-02-07T11:25:03.423511Z",
     "shell.execute_reply": "2024-02-07T11:25:03.422345Z"
    },
    "papermill": {
     "duration": 14.35232,
     "end_time": "2024-02-07T11:25:03.425874",
     "exception": false,
     "start_time": "2024-02-07T11:24:49.073554",
     "status": "completed"
    },
    "tags": []
   },
   "outputs": [
    {
     "name": "stdout",
     "output_type": "stream",
     "text": [
      "0.8309294871794872\n",
      "[[1031  213]\n",
      " [ 209 1043]]\n"
     ]
    }
   ],
   "source": [
    "cv=CountVectorizer(max_features=4000)\n",
    "X_train_bow=cv.fit_transform(X_train['review']).toarray()\n",
    "X_test_bow=cv.transform(X_test['review']).toarray()\n",
    "rf=RandomForestClassifier()\n",
    "rf.fit(X_train_bow,y_train)\n",
    "y_pred=rf.predict(X_test_bow)\n",
    "print(accuracy_score(y_test,y_pred))\n",
    "print(confusion_matrix(y_test,y_pred))"
   ]
  },
  {
   "cell_type": "markdown",
   "id": "c7827275",
   "metadata": {
    "papermill": {
     "duration": 0.024959,
     "end_time": "2024-02-07T11:25:03.476610",
     "exception": false,
     "start_time": "2024-02-07T11:25:03.451651",
     "status": "completed"
    },
    "tags": []
   },
   "source": [
    "# Observation: \n",
    "you can see accuracy decreased a bit but the number of features taken are also less than previous case.\n",
    "\n",
    "\n"
   ]
  },
  {
   "cell_type": "code",
   "execution_count": 37,
   "id": "d2324222",
   "metadata": {
    "execution": {
     "iopub.execute_input": "2024-02-07T11:25:03.530743Z",
     "iopub.status.busy": "2024-02-07T11:25:03.530283Z",
     "iopub.status.idle": "2024-02-07T11:25:20.687718Z",
     "shell.execute_reply": "2024-02-07T11:25:20.686409Z"
    },
    "papermill": {
     "duration": 17.188292,
     "end_time": "2024-02-07T11:25:20.690267",
     "exception": false,
     "start_time": "2024-02-07T11:25:03.501975",
     "status": "completed"
    },
    "tags": []
   },
   "outputs": [
    {
     "name": "stdout",
     "output_type": "stream",
     "text": [
      "0.828125\n",
      "[[1045  199]\n",
      " [ 230 1022]]\n"
     ]
    }
   ],
   "source": [
    "#apply bi-gram, but take less number of features otherwise it will give memory error.\n",
    "cv=CountVectorizer(ngram_range=(1,2), max_features=3000)\n",
    "X_train_bow=cv.fit_transform(X_train['review']).toarray()\n",
    "X_test_bow=cv.transform(X_test['review']).toarray()\n",
    "rf=RandomForestClassifier()\n",
    "rf.fit(X_train_bow,y_train)\n",
    "y_pred=rf.predict(X_test_bow)\n",
    "print(accuracy_score(y_test,y_pred))\n",
    "print(confusion_matrix(y_test,y_pred))\n"
   ]
  },
  {
   "cell_type": "markdown",
   "id": "fb816a35",
   "metadata": {
    "papermill": {
     "duration": 0.025431,
     "end_time": "2024-02-07T11:25:20.741232",
     "exception": false,
     "start_time": "2024-02-07T11:25:20.715801",
     "status": "completed"
    },
    "tags": []
   },
   "source": [
    "No signuficant improvement. "
   ]
  },
  {
   "cell_type": "code",
   "execution_count": 38,
   "id": "7b76c190",
   "metadata": {
    "execution": {
     "iopub.execute_input": "2024-02-07T11:25:20.793386Z",
     "iopub.status.busy": "2024-02-07T11:25:20.792929Z",
     "iopub.status.idle": "2024-02-07T11:25:20.797763Z",
     "shell.execute_reply": "2024-02-07T11:25:20.796716Z"
    },
    "papermill": {
     "duration": 0.033507,
     "end_time": "2024-02-07T11:25:20.799918",
     "exception": false,
     "start_time": "2024-02-07T11:25:20.766411",
     "status": "completed"
    },
    "tags": []
   },
   "outputs": [],
   "source": [
    "#Apply tf-idf vectorizer\n",
    "from sklearn.feature_extraction.text import TfidfVectorizer"
   ]
  },
  {
   "cell_type": "code",
   "execution_count": 39,
   "id": "90a515bc",
   "metadata": {
    "execution": {
     "iopub.execute_input": "2024-02-07T11:25:20.852259Z",
     "iopub.status.busy": "2024-02-07T11:25:20.851820Z",
     "iopub.status.idle": "2024-02-07T11:25:20.856465Z",
     "shell.execute_reply": "2024-02-07T11:25:20.855397Z"
    },
    "papermill": {
     "duration": 0.033407,
     "end_time": "2024-02-07T11:25:20.858679",
     "exception": false,
     "start_time": "2024-02-07T11:25:20.825272",
     "status": "completed"
    },
    "tags": []
   },
   "outputs": [],
   "source": [
    "tfidf=TfidfVectorizer()\n"
   ]
  },
  {
   "cell_type": "code",
   "execution_count": 40,
   "id": "ce28a96c",
   "metadata": {
    "execution": {
     "iopub.execute_input": "2024-02-07T11:25:20.910802Z",
     "iopub.status.busy": "2024-02-07T11:25:20.910432Z",
     "iopub.status.idle": "2024-02-07T11:25:26.178940Z",
     "shell.execute_reply": "2024-02-07T11:25:26.177784Z"
    },
    "papermill": {
     "duration": 5.297925,
     "end_time": "2024-02-07T11:25:26.181679",
     "exception": false,
     "start_time": "2024-02-07T11:25:20.883754",
     "status": "completed"
    },
    "tags": []
   },
   "outputs": [],
   "source": [
    "X_train_tfidf=tfidf.fit_transform(X_train['review']).toarray()\n",
    "X_test_tfidf=tfidf.transform(X_test['review']).toarray()\n"
   ]
  },
  {
   "cell_type": "code",
   "execution_count": 41,
   "id": "1e2939c8",
   "metadata": {
    "execution": {
     "iopub.execute_input": "2024-02-07T11:25:26.235659Z",
     "iopub.status.busy": "2024-02-07T11:25:26.235217Z",
     "iopub.status.idle": "2024-02-07T11:26:56.042975Z",
     "shell.execute_reply": "2024-02-07T11:26:56.041219Z"
    },
    "papermill": {
     "duration": 89.864156,
     "end_time": "2024-02-07T11:26:56.072593",
     "exception": false,
     "start_time": "2024-02-07T11:25:26.208437",
     "status": "completed"
    },
    "tags": []
   },
   "outputs": [
    {
     "name": "stdout",
     "output_type": "stream",
     "text": [
      "0.8385416666666666\n",
      "[[1049  195]\n",
      " [ 208 1044]]\n"
     ]
    }
   ],
   "source": [
    "rf=RandomForestClassifier()\n",
    "rf.fit(X_train_tfidf,y_train)\n",
    "y_pred=rf.predict(X_test_tfidf)\n",
    "print(accuracy_score(y_test,y_pred))\n",
    "print(confusion_matrix(y_test,y_pred))\n"
   ]
  },
  {
   "cell_type": "markdown",
   "id": "52cc0db2",
   "metadata": {
    "papermill": {
     "duration": 0.025896,
     "end_time": "2024-02-07T11:26:56.124206",
     "exception": false,
     "start_time": "2024-02-07T11:26:56.098310",
     "status": "completed"
    },
    "tags": []
   },
   "source": [
    "# Word2Vec\n",
    "1. apply word2vec\n",
    "2. word2vec for single word\n",
    "3. avgword2vec for whole document or sentence.\n"
   ]
  },
  {
   "cell_type": "code",
   "execution_count": 42,
   "id": "fb8d883b",
   "metadata": {
    "execution": {
     "iopub.execute_input": "2024-02-07T11:26:56.177674Z",
     "iopub.status.busy": "2024-02-07T11:26:56.177229Z",
     "iopub.status.idle": "2024-02-07T11:26:56.183063Z",
     "shell.execute_reply": "2024-02-07T11:26:56.181674Z"
    },
    "papermill": {
     "duration": 0.036125,
     "end_time": "2024-02-07T11:26:56.185662",
     "exception": false,
     "start_time": "2024-02-07T11:26:56.149537",
     "status": "completed"
    },
    "tags": []
   },
   "outputs": [],
   "source": [
    "df2=df.iloc[10000:20000]"
   ]
  },
  {
   "cell_type": "code",
   "execution_count": 43,
   "id": "8935e1cd",
   "metadata": {
    "execution": {
     "iopub.execute_input": "2024-02-07T11:26:56.239511Z",
     "iopub.status.busy": "2024-02-07T11:26:56.238501Z",
     "iopub.status.idle": "2024-02-07T11:26:56.272181Z",
     "shell.execute_reply": "2024-02-07T11:26:56.271059Z"
    },
    "papermill": {
     "duration": 0.06381,
     "end_time": "2024-02-07T11:26:56.275083",
     "exception": false,
     "start_time": "2024-02-07T11:26:56.211273",
     "status": "completed"
    },
    "tags": []
   },
   "outputs": [
    {
     "name": "stdout",
     "output_type": "stream",
     "text": [
      "0\n"
     ]
    }
   ],
   "source": [
    "print(df1.duplicated().sum())"
   ]
  },
  {
   "cell_type": "code",
   "execution_count": 44,
   "id": "be757e3b",
   "metadata": {
    "execution": {
     "iopub.execute_input": "2024-02-07T11:26:56.330948Z",
     "iopub.status.busy": "2024-02-07T11:26:56.330231Z",
     "iopub.status.idle": "2024-02-07T11:26:58.784066Z",
     "shell.execute_reply": "2024-02-07T11:26:58.782379Z"
    },
    "papermill": {
     "duration": 2.484957,
     "end_time": "2024-02-07T11:26:58.787280",
     "exception": false,
     "start_time": "2024-02-07T11:26:56.302323",
     "status": "completed"
    },
    "tags": []
   },
   "outputs": [
    {
     "data": {
      "text/plain": [
       "'a french novelist disgusted by his wifes society friends goes to north africa for a respite there he encounters a vivacious  talented bedouin girl living in poverty to spite his wife who is romancing a maharajah he decides to train  educate the girl and present her to parisian society as the princesse tam tambr br the marvelous josephine baker is perfectly cast in the title role in this very enjoyable french film with her enormous eyes  infectious smile she makes contact with the viewers heartstrings immediately her oversized personality  obvious joy of performing make her a pure pleasure to watch baker makes us care about whats happening to poor alwina during her transformation  introduction to european moresbr br albert préjean does very well as the pygmalion to bakers galatea also effective are georges peclet as a halfcaste servant and jean galland as the mysterious maharajahbr br the film is very handsome  well made looking a little reminiscent of busby berkeley movies being produced at the same time in america  although unlike american films of this period princesse tam tam hasnt any racism it should be pointed out that there was no hays office or production code in france some of the dialogue  action is rather provocative but it must be admitted that baker singing  dancing to under the african sky as well as her culminating performance in the parisian nightclub are two of the cinemas more memorable momentsbr br actual location filming in tunisia greatly enhances the filmbr br josephine baker was born in st louis in 1906 into a very poor family her talent  driving ambition however soon pushed her into moving east and she was briefly a cast member of the ziegfeld follies realizing that america in the mid1920s held great limitations for a gifted black woman she managed to get herself to paris where she eventually joined the foliésbergeres  le negre revue the french adored her and she became a huge celebrity a short return to america in 1935 showed baker that things had not changed for africanamericans she returned to france became a french citizen  worked for the resistance during the early days of the war baker relocated to morocco for the duration and entertained allied troops stationed therebr br after the war bakers fortunes began to slide and she faced many financial  personal difficulties for a while she was even banned from returning to the united states finally baker accepted an offer from princess grace of monaco to reside in the principality josephine baker was on the verge of a comeback when she died of a stroke in 1975 at the age of 68br br having appeared in only two decent films  zouzou  princesse tam tam  baker is in danger of becoming obscure but she deserves her place alongside chevalier dietrich  robeson as one of her generations truly legendary performers'"
      ]
     },
     "execution_count": 44,
     "metadata": {},
     "output_type": "execute_result"
    }
   ],
   "source": [
    "#Text Preprocessing\n",
    "df2['review'] = df2['review'].apply(lambda x: ''.join(char for char in x if char.isalnum() or char.isspace()))\n",
    "df2['review']=df2['review'].apply(lambda x: x.lower())\n",
    "df2['review'][10001]\n"
   ]
  },
  {
   "cell_type": "code",
   "execution_count": 45,
   "id": "cdfec0dc",
   "metadata": {
    "execution": {
     "iopub.execute_input": "2024-02-07T11:26:58.841825Z",
     "iopub.status.busy": "2024-02-07T11:26:58.841015Z",
     "iopub.status.idle": "2024-02-07T11:27:15.570312Z",
     "shell.execute_reply": "2024-02-07T11:27:15.568975Z"
    },
    "papermill": {
     "duration": 16.760851,
     "end_time": "2024-02-07T11:27:15.573790",
     "exception": false,
     "start_time": "2024-02-07T11:26:58.812939",
     "status": "completed"
    },
    "tags": []
   },
   "outputs": [],
   "source": [
    "import gensim\n",
    "from nltk import sent_tokenize\n",
    "from gensim.utils import simple_preprocess"
   ]
  },
  {
   "cell_type": "code",
   "execution_count": 46,
   "id": "923166db",
   "metadata": {
    "execution": {
     "iopub.execute_input": "2024-02-07T11:27:15.631176Z",
     "iopub.status.busy": "2024-02-07T11:27:15.630106Z",
     "iopub.status.idle": "2024-02-07T11:27:24.810121Z",
     "shell.execute_reply": "2024-02-07T11:27:24.809108Z"
    },
    "papermill": {
     "duration": 9.211953,
     "end_time": "2024-02-07T11:27:24.812852",
     "exception": false,
     "start_time": "2024-02-07T11:27:15.600899",
     "status": "completed"
    },
    "tags": []
   },
   "outputs": [],
   "source": [
    "data=[]\n",
    "for doc in df2['review']:\n",
    "    sent_token=sent_tokenize(doc)\n",
    "    for sent in sent_token:\n",
    "        data.append(simple_preprocess(sent))"
   ]
  },
  {
   "cell_type": "code",
   "execution_count": 47,
   "id": "c6032a79",
   "metadata": {
    "execution": {
     "iopub.execute_input": "2024-02-07T11:27:24.867442Z",
     "iopub.status.busy": "2024-02-07T11:27:24.866965Z",
     "iopub.status.idle": "2024-02-07T11:27:24.873645Z",
     "shell.execute_reply": "2024-02-07T11:27:24.872306Z"
    },
    "papermill": {
     "duration": 0.037288,
     "end_time": "2024-02-07T11:27:24.876193",
     "exception": false,
     "start_time": "2024-02-07T11:27:24.838905",
     "status": "completed"
    },
    "tags": []
   },
   "outputs": [],
   "source": [
    "model=gensim.models.Word2Vec(\n",
    "    window=10,\n",
    "    min_count=2\n",
    ")"
   ]
  },
  {
   "cell_type": "code",
   "execution_count": 48,
   "id": "12201db8",
   "metadata": {
    "execution": {
     "iopub.execute_input": "2024-02-07T11:27:24.930070Z",
     "iopub.status.busy": "2024-02-07T11:27:24.929651Z",
     "iopub.status.idle": "2024-02-07T11:27:26.837708Z",
     "shell.execute_reply": "2024-02-07T11:27:26.836427Z"
    },
    "papermill": {
     "duration": 1.938641,
     "end_time": "2024-02-07T11:27:26.840934",
     "exception": false,
     "start_time": "2024-02-07T11:27:24.902293",
     "status": "completed"
    },
    "tags": []
   },
   "outputs": [],
   "source": [
    "model.build_vocab(data)"
   ]
  },
  {
   "cell_type": "code",
   "execution_count": 49,
   "id": "58727549",
   "metadata": {
    "execution": {
     "iopub.execute_input": "2024-02-07T11:27:26.898948Z",
     "iopub.status.busy": "2024-02-07T11:27:26.898456Z",
     "iopub.status.idle": "2024-02-07T11:27:38.793670Z",
     "shell.execute_reply": "2024-02-07T11:27:38.792075Z"
    },
    "papermill": {
     "duration": 11.927887,
     "end_time": "2024-02-07T11:27:38.796614",
     "exception": false,
     "start_time": "2024-02-07T11:27:26.868727",
     "status": "completed"
    },
    "tags": []
   },
   "outputs": [
    {
     "data": {
      "text/plain": [
       "(8260406, 10962345)"
      ]
     },
     "execution_count": 49,
     "metadata": {},
     "output_type": "execute_result"
    }
   ],
   "source": [
    "model.train(data, total_examples=model.corpus_count,epochs=model.epochs)"
   ]
  },
  {
   "cell_type": "code",
   "execution_count": 50,
   "id": "61bfc640",
   "metadata": {
    "execution": {
     "iopub.execute_input": "2024-02-07T11:27:38.850436Z",
     "iopub.status.busy": "2024-02-07T11:27:38.849996Z",
     "iopub.status.idle": "2024-02-07T11:27:38.857634Z",
     "shell.execute_reply": "2024-02-07T11:27:38.856384Z"
    },
    "papermill": {
     "duration": 0.037294,
     "end_time": "2024-02-07T11:27:38.860013",
     "exception": false,
     "start_time": "2024-02-07T11:27:38.822719",
     "status": "completed"
    },
    "tags": []
   },
   "outputs": [
    {
     "data": {
      "text/plain": [
       "36057"
      ]
     },
     "execution_count": 50,
     "metadata": {},
     "output_type": "execute_result"
    }
   ],
   "source": [
    "len(model.wv.index_to_key)"
   ]
  },
  {
   "cell_type": "code",
   "execution_count": 51,
   "id": "f5249117",
   "metadata": {
    "execution": {
     "iopub.execute_input": "2024-02-07T11:27:38.913505Z",
     "iopub.status.busy": "2024-02-07T11:27:38.913056Z",
     "iopub.status.idle": "2024-02-07T11:27:38.919884Z",
     "shell.execute_reply": "2024-02-07T11:27:38.918617Z"
    },
    "papermill": {
     "duration": 0.036767,
     "end_time": "2024-02-07T11:27:38.922708",
     "exception": false,
     "start_time": "2024-02-07T11:27:38.885941",
     "status": "completed"
    },
    "tags": []
   },
   "outputs": [],
   "source": [
    "#avegword2vec\n",
    "def document_vector(doc):\n",
    "    #first remove out_of_vocabulary words\n",
    "    doc=[word for word in doc.split() if word in model.wv.index_to_key]\n",
    "    return np.mean(model.wv[doc],axis=0)"
   ]
  },
  {
   "cell_type": "code",
   "execution_count": 52,
   "id": "abed4092",
   "metadata": {
    "execution": {
     "iopub.execute_input": "2024-02-07T11:27:38.976784Z",
     "iopub.status.busy": "2024-02-07T11:27:38.976311Z",
     "iopub.status.idle": "2024-02-07T11:27:39.023944Z",
     "shell.execute_reply": "2024-02-07T11:27:39.022647Z"
    },
    "papermill": {
     "duration": 0.077861,
     "end_time": "2024-02-07T11:27:39.026775",
     "exception": false,
     "start_time": "2024-02-07T11:27:38.948914",
     "status": "completed"
    },
    "tags": []
   },
   "outputs": [
    {
     "data": {
      "text/plain": [
       "array([ 0.43933243,  0.17665994,  0.04081652, -0.57920283,  0.24821672,\n",
       "       -0.15694048, -0.13466161,  0.6317492 , -0.38490024, -0.14245252,\n",
       "       -0.3319692 , -0.28077173,  0.02636208,  0.17998138,  0.7608199 ,\n",
       "        0.08413982, -0.23202313, -0.23272108,  0.13105659, -0.5318668 ,\n",
       "        0.10812921,  0.3753072 ,  0.39017522, -0.39102927, -0.45010167,\n",
       "        0.38533813, -0.61827564, -0.4705431 , -0.46126577,  0.08835135,\n",
       "        0.4980762 , -0.01278793,  0.65967554, -0.45739412, -0.6255439 ,\n",
       "        0.3078794 ,  0.03826225, -0.01006192, -0.7497128 , -0.02680314,\n",
       "       -0.08801977,  0.35150555,  0.1021999 ,  0.15440792,  0.30123404,\n",
       "        0.44331145,  0.21459165, -0.6495168 ,  0.52305067, -0.29355887,\n",
       "       -0.4043537 , -0.40971363,  0.41885814, -0.15331268,  0.04622978,\n",
       "       -0.48879603, -0.37168476, -0.20711684, -0.0502872 ,  0.0171526 ,\n",
       "       -0.05450995,  0.10225044, -0.33405352,  0.15767008, -0.19943446,\n",
       "        0.6982913 ,  0.1119386 , -0.04608605, -0.42683685, -0.1915656 ,\n",
       "       -0.18811832, -0.22217663,  0.30264264, -0.15396097,  0.5129601 ,\n",
       "        0.25690946,  0.05412273, -0.1799472 , -0.4144116 ,  0.11183088,\n",
       "        0.0161096 , -0.2066915 , -0.80890065, -0.1751503 , -0.4010308 ,\n",
       "       -0.38733742,  0.3000497 ,  0.01821228, -0.0275847 , -0.55751765,\n",
       "        0.6323127 ,  0.539419  ,  0.4187367 ,  0.3821904 ,  0.2600459 ,\n",
       "       -0.09269599, -0.1217574 , -0.1366046 , -0.18275598, -0.566594  ],\n",
       "      dtype=float32)"
      ]
     },
     "execution_count": 52,
     "metadata": {},
     "output_type": "execute_result"
    }
   ],
   "source": [
    "document_vector(df2['review'].values[0])"
   ]
  },
  {
   "cell_type": "code",
   "execution_count": 53,
   "id": "6cd12a04",
   "metadata": {
    "execution": {
     "iopub.execute_input": "2024-02-07T11:27:39.082165Z",
     "iopub.status.busy": "2024-02-07T11:27:39.080950Z",
     "iopub.status.idle": "2024-02-07T11:27:39.085853Z",
     "shell.execute_reply": "2024-02-07T11:27:39.084905Z"
    },
    "papermill": {
     "duration": 0.034567,
     "end_time": "2024-02-07T11:27:39.088183",
     "exception": false,
     "start_time": "2024-02-07T11:27:39.053616",
     "status": "completed"
    },
    "tags": []
   },
   "outputs": [],
   "source": [
    "from tqdm import tqdm"
   ]
  },
  {
   "cell_type": "code",
   "execution_count": 54,
   "id": "aa6815b8",
   "metadata": {
    "execution": {
     "iopub.execute_input": "2024-02-07T11:27:39.142801Z",
     "iopub.status.busy": "2024-02-07T11:27:39.142360Z",
     "iopub.status.idle": "2024-02-07T11:32:40.058013Z",
     "shell.execute_reply": "2024-02-07T11:32:40.056424Z"
    },
    "papermill": {
     "duration": 300.946556,
     "end_time": "2024-02-07T11:32:40.061564",
     "exception": false,
     "start_time": "2024-02-07T11:27:39.115008",
     "status": "completed"
    },
    "tags": []
   },
   "outputs": [
    {
     "name": "stderr",
     "output_type": "stream",
     "text": [
      "100%|██████████| 10000/10000 [05:00<00:00, 33.23it/s]\n"
     ]
    }
   ],
   "source": [
    "X=[]\n",
    "for doc in tqdm(df2['review'].values):\n",
    "    X.append(document_vector(doc))"
   ]
  },
  {
   "cell_type": "code",
   "execution_count": 55,
   "id": "2eb8deea",
   "metadata": {
    "execution": {
     "iopub.execute_input": "2024-02-07T11:32:40.517608Z",
     "iopub.status.busy": "2024-02-07T11:32:40.517121Z",
     "iopub.status.idle": "2024-02-07T11:32:40.537208Z",
     "shell.execute_reply": "2024-02-07T11:32:40.535974Z"
    },
    "papermill": {
     "duration": 0.250285,
     "end_time": "2024-02-07T11:32:40.540049",
     "exception": false,
     "start_time": "2024-02-07T11:32:40.289764",
     "status": "completed"
    },
    "tags": []
   },
   "outputs": [],
   "source": [
    "X=np.array(X)"
   ]
  },
  {
   "cell_type": "code",
   "execution_count": 56,
   "id": "de50670f",
   "metadata": {
    "execution": {
     "iopub.execute_input": "2024-02-07T11:32:40.985051Z",
     "iopub.status.busy": "2024-02-07T11:32:40.984322Z",
     "iopub.status.idle": "2024-02-07T11:32:40.991670Z",
     "shell.execute_reply": "2024-02-07T11:32:40.990491Z"
    },
    "papermill": {
     "duration": 0.232699,
     "end_time": "2024-02-07T11:32:40.993916",
     "exception": false,
     "start_time": "2024-02-07T11:32:40.761217",
     "status": "completed"
    },
    "tags": []
   },
   "outputs": [
    {
     "data": {
      "text/plain": [
       "(10000, 100)"
      ]
     },
     "execution_count": 56,
     "metadata": {},
     "output_type": "execute_result"
    }
   ],
   "source": [
    "X.shape"
   ]
  },
  {
   "cell_type": "code",
   "execution_count": 57,
   "id": "6eeb097e",
   "metadata": {
    "execution": {
     "iopub.execute_input": "2024-02-07T11:32:41.445053Z",
     "iopub.status.busy": "2024-02-07T11:32:41.444622Z",
     "iopub.status.idle": "2024-02-07T11:32:41.453483Z",
     "shell.execute_reply": "2024-02-07T11:32:41.452599Z"
    },
    "papermill": {
     "duration": 0.237248,
     "end_time": "2024-02-07T11:32:41.455693",
     "exception": false,
     "start_time": "2024-02-07T11:32:41.218445",
     "status": "completed"
    },
    "tags": []
   },
   "outputs": [],
   "source": [
    "from sklearn.preprocessing import LabelEncoder\n",
    "encoder=LabelEncoder()\n",
    "\n",
    "y=encoder.fit_transform(df2['sentiment'])"
   ]
  },
  {
   "cell_type": "code",
   "execution_count": 58,
   "id": "820ef98d",
   "metadata": {
    "execution": {
     "iopub.execute_input": "2024-02-07T11:32:41.901971Z",
     "iopub.status.busy": "2024-02-07T11:32:41.901531Z",
     "iopub.status.idle": "2024-02-07T11:32:41.908774Z",
     "shell.execute_reply": "2024-02-07T11:32:41.907618Z"
    },
    "papermill": {
     "duration": 0.23455,
     "end_time": "2024-02-07T11:32:41.911015",
     "exception": false,
     "start_time": "2024-02-07T11:32:41.676465",
     "status": "completed"
    },
    "tags": []
   },
   "outputs": [
    {
     "data": {
      "text/plain": [
       "array([0, 1, 0, ..., 1, 1, 0])"
      ]
     },
     "execution_count": 58,
     "metadata": {},
     "output_type": "execute_result"
    }
   ],
   "source": [
    "y"
   ]
  },
  {
   "cell_type": "code",
   "execution_count": 59,
   "id": "5ddb1ffe",
   "metadata": {
    "execution": {
     "iopub.execute_input": "2024-02-07T11:32:42.427651Z",
     "iopub.status.busy": "2024-02-07T11:32:42.427209Z",
     "iopub.status.idle": "2024-02-07T11:32:42.438731Z",
     "shell.execute_reply": "2024-02-07T11:32:42.437217Z"
    },
    "papermill": {
     "duration": 0.238358,
     "end_time": "2024-02-07T11:32:42.441232",
     "exception": false,
     "start_time": "2024-02-07T11:32:42.202874",
     "status": "completed"
    },
    "tags": []
   },
   "outputs": [],
   "source": [
    "from sklearn.model_selection import train_test_split\n",
    "X_train,X_test,y_train,y_test=train_test_split(X,y,test_size=0.25,random_state=24)"
   ]
  },
  {
   "cell_type": "code",
   "execution_count": 60,
   "id": "56412500",
   "metadata": {
    "execution": {
     "iopub.execute_input": "2024-02-07T11:32:42.889304Z",
     "iopub.status.busy": "2024-02-07T11:32:42.888885Z",
     "iopub.status.idle": "2024-02-07T11:32:50.652620Z",
     "shell.execute_reply": "2024-02-07T11:32:50.651407Z"
    },
    "papermill": {
     "duration": 7.992391,
     "end_time": "2024-02-07T11:32:50.655597",
     "exception": false,
     "start_time": "2024-02-07T11:32:42.663206",
     "status": "completed"
    },
    "tags": []
   },
   "outputs": [
    {
     "name": "stdout",
     "output_type": "stream",
     "text": [
      "0.7396\n",
      "[[958 335]\n",
      " [316 891]]\n"
     ]
    }
   ],
   "source": [
    "from sklearn.ensemble import RandomForestClassifier\n",
    "from sklearn.metrics import accuracy_score,confusion_matrix\n",
    "rf=RandomForestClassifier()\n",
    "\n",
    "rf.fit(X_train,y_train)\n",
    "y_pred=rf.predict(X_test)\n",
    "print(accuracy_score(y_test,y_pred))\n",
    "print(confusion_matrix(y_test,y_pred))"
   ]
  },
  {
   "cell_type": "markdown",
   "id": "e069a3d5",
   "metadata": {
    "papermill": {
     "duration": 0.225284,
     "end_time": "2024-02-07T11:32:51.103438",
     "exception": false,
     "start_time": "2024-02-07T11:32:50.878154",
     "status": "completed"
    },
    "tags": []
   },
   "source": [
    "# Observation:\n",
    "didn't get good accuracy, reasons can be \n",
    "1. less amount of data taken for model training\n",
    "2. we trained our model from scretch instead of using pretrained model."
   ]
  }
 ],
 "metadata": {
  "kaggle": {
   "accelerator": "none",
   "dataSources": [
    {
     "datasetId": 134715,
     "sourceId": 320111,
     "sourceType": "datasetVersion"
    }
   ],
   "dockerImageVersionId": 30646,
   "isGpuEnabled": false,
   "isInternetEnabled": true,
   "language": "python",
   "sourceType": "notebook"
  },
  "kernelspec": {
   "display_name": "Python 3",
   "language": "python",
   "name": "python3"
  },
  "language_info": {
   "codemirror_mode": {
    "name": "ipython",
    "version": 3
   },
   "file_extension": ".py",
   "mimetype": "text/x-python",
   "name": "python",
   "nbconvert_exporter": "python",
   "pygments_lexer": "ipython3",
   "version": "3.10.13"
  },
  "papermill": {
   "default_parameters": {},
   "duration": 604.349693,
   "end_time": "2024-02-07T11:32:52.956239",
   "environment_variables": {},
   "exception": null,
   "input_path": "__notebook__.ipynb",
   "output_path": "__notebook__.ipynb",
   "parameters": {},
   "start_time": "2024-02-07T11:22:48.606546",
   "version": "2.5.0"
  }
 },
 "nbformat": 4,
 "nbformat_minor": 5
}
